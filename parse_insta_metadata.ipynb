{
 "cells": [
  {
   "cell_type": "code",
   "execution_count": 12,
   "metadata": {},
   "outputs": [],
   "source": [
    "from os import listdir\n",
    "from os.path import isfile, join\n",
    "import json\n",
    "import pandas as pd\n",
    "import numpy as np"
   ]
  },
  {
   "cell_type": "code",
   "execution_count": 47,
   "metadata": {},
   "outputs": [],
   "source": [
    "def parseMetadataFolder(meta_dir):\n",
    "\n",
    "    ids = []\n",
    "    user = []\n",
    "    img_name = []\n",
    "    \n",
    "    for f in [f for f in listdir(meta_dir) if isfile(join(meta_dir, f))]:\n",
    "        print(f)\n",
    "        with open(meta_dir + '/' + f, 'r') as train_f:\n",
    "            dat_json = json.load(train_f)\n",
    "\n",
    "        for i in range(len(dat_json['GraphImages'])):\n",
    "            for url in dat_json['GraphImages'][i]['urls']:\n",
    "                ids.append(dat_json['GraphImages'][i]['id'])\n",
    "                user.append(dat_json['GraphImages'][i]['username'])\n",
    "                start_char = url.rfind('/') + 1\n",
    "                end_char = url.find('?')\n",
    "    \n",
    "                img_name.append(dat_json['GraphImages'][i]['display_url'][start_char:end_char])\n",
    "    \n",
    "    metadata = pd.DataFrame({'img_name': img_name\n",
    "                             ,'user': user\n",
    "                             ,'id': ids})\n",
    "    \n",
    "    return metadata"
   ]
  },
  {
   "cell_type": "code",
   "execution_count": 51,
   "metadata": {},
   "outputs": [],
   "source": [
    "meta_dir = '/ebsvol2/data/insta_scrape/results/metadata'"
   ]
  },
  {
   "cell_type": "code",
   "execution_count": 52,
   "metadata": {},
   "outputs": [
    {
     "name": "stdout",
     "output_type": "stream",
     "text": [
      "1993vintage.json\n",
      "a_lot_of_vintage_shop.json\n",
      "vintagepolorl.json\n",
      "90sbabbyyy_vintage.json\n"
     ]
    }
   ],
   "source": [
    "meta = parseMetadataFolder(meta_dir)"
   ]
  },
  {
   "cell_type": "code",
   "execution_count": 53,
   "metadata": {},
   "outputs": [
    {
     "data": {
      "text/plain": [
       "25266"
      ]
     },
     "execution_count": 53,
     "metadata": {},
     "output_type": "execute_result"
    }
   ],
   "source": [
    "len(meta)"
   ]
  },
  {
   "cell_type": "code",
   "execution_count": 54,
   "metadata": {},
   "outputs": [],
   "source": [
    "img_dir = '/ebsvol2/data/insta_scrape/results/images'"
   ]
  },
  {
   "cell_type": "code",
   "execution_count": 55,
   "metadata": {},
   "outputs": [],
   "source": [
    "img_names_lst = []\n",
    "user_names = []\n",
    "\n",
    "for user_img_folder in  [f for f in listdir(img_dir)]:\n",
    "    user_img_names = [ f for f in listdir(img_dir + '/' + user_img_folder)]\n",
    "    \n",
    "    user_names.extend([user_img_folder for i in range(len(user_img_names))])\n",
    "    \n",
    "    img_names_lst.extend(user_img_names)\n",
    "    \n",
    "img_names = pd.DataFrame({'img_name':img_names_lst, 'user':user_names})\n",
    "img_names['image_path'] = (img_names['user'] + '/' + img_names['img_name'])\n",
    "img_names['full_image_path'] = (img_dir + '/' + img_names['image_path'])\n",
    "img_names = img_names[['user','img_name','image_path','full_image_path']]"
   ]
  },
  {
   "cell_type": "code",
   "execution_count": 56,
   "metadata": {},
   "outputs": [
    {
     "data": {
      "text/plain": [
       "25244"
      ]
     },
     "execution_count": 56,
     "metadata": {},
     "output_type": "execute_result"
    }
   ],
   "source": [
    "len(img_names)"
   ]
  },
  {
   "cell_type": "code",
   "execution_count": 57,
   "metadata": {},
   "outputs": [],
   "source": [
    "insta_dat = img_names.merge(meta, on = ['img_name', 'user'], how = 'inner')"
   ]
  },
  {
   "cell_type": "code",
   "execution_count": 58,
   "metadata": {},
   "outputs": [],
   "source": [
    "insta_dat.to_csv('/ebsvol2/data/insta_scrape/results/insta_img_df.csv')"
   ]
  }
 ],
 "metadata": {
  "kernelspec": {
   "display_name": "Python 3",
   "language": "python",
   "name": "python3"
  },
  "language_info": {
   "codemirror_mode": {
    "name": "ipython",
    "version": 3
   },
   "file_extension": ".py",
   "mimetype": "text/x-python",
   "name": "python",
   "nbconvert_exporter": "python",
   "pygments_lexer": "ipython3",
   "version": "3.7.3"
  }
 },
 "nbformat": 4,
 "nbformat_minor": 4
}

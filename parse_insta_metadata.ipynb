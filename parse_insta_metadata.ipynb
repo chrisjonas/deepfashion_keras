{
 "cells": [
  {
   "cell_type": "code",
   "execution_count": 4,
   "metadata": {},
   "outputs": [],
   "source": [
    "from os import listdir\n",
    "from os.path import isfile, join\n",
    "import json\n",
    "import pandas as pd"
   ]
  },
  {
   "cell_type": "code",
   "execution_count": 9,
   "metadata": {},
   "outputs": [],
   "source": [
    "def parseMetadataFolder(meta_dir):\n",
    "\n",
    "    ids = []\n",
    "    user = []\n",
    "    img_name = []\n",
    "    \n",
    "    for f in [f for f in listdir(meta_dir) if isfile(join(meta_dir, f))]:\n",
    "        print(f)\n",
    "        with open(meta_dir + '/' + f, 'r') as train_f:\n",
    "            dat_json = json.load(train_f)\n",
    "\n",
    "        for i in range(len(dat_json['GraphImages'])):\n",
    "            ids.append(dat_json['GraphImages'][i]['id'])\n",
    "            user.append(dat_json['GraphImages'][i]['username'])\n",
    "    \n",
    "            start_char = dat_json['GraphImages'][i]['display_url'].rfind('/') + 1\n",
    "            end_char = dat_json['GraphImages'][i]['display_url'].find('?')\n",
    "    \n",
    "            img_name.append(dat_json['GraphImages'][i]['display_url'][start_char:end_char])\n",
    "    \n",
    "    metadata = pd.DataFrame({'img_name': img_name\n",
    "                             ,'user': user\n",
    "                             ,'id': ids})\n",
    "    \n",
    "    return metadata"
   ]
  },
  {
   "cell_type": "code",
   "execution_count": 7,
   "metadata": {},
   "outputs": [],
   "source": [
    "meta_dir = '/ebsvol2/data/insta_scrape/results/metadata'"
   ]
  },
  {
   "cell_type": "code",
   "execution_count": 10,
   "metadata": {},
   "outputs": [
    {
     "name": "stdout",
     "output_type": "stream",
     "text": [
      "1993vintage.json\n",
      "a_lot_of_vintage_shop.json\n",
      "vintagepolorl.json\n",
      "90sbabbyyy_vintage.json\n"
     ]
    }
   ],
   "source": [
    "meta = parseMetadataFolder(meta_dir)"
   ]
  },
  {
   "cell_type": "code",
   "execution_count": 11,
   "metadata": {},
   "outputs": [
    {
     "data": {
      "text/plain": [
       "19687"
      ]
     },
     "execution_count": 11,
     "metadata": {},
     "output_type": "execute_result"
    }
   ],
   "source": [
    "len(meta)"
   ]
  },
  {
   "cell_type": "code",
   "execution_count": null,
   "metadata": {},
   "outputs": [],
   "source": [
    "user_img_names\n",
    "for user_img_folder in  [f for f in os.listdir(img_dir)]:\n",
    "    user_img_names = [f for f in os.listdir(user_img_folder)]\n",
    "    \n",
    "df = pd.DataFrame({'path':file_names})"
   ]
  }
 ],
 "metadata": {
  "kernelspec": {
   "display_name": "Python 3",
   "language": "python",
   "name": "python3"
  },
  "language_info": {
   "codemirror_mode": {
    "name": "ipython",
    "version": 3
   },
   "file_extension": ".py",
   "mimetype": "text/x-python",
   "name": "python",
   "nbconvert_exporter": "python",
   "pygments_lexer": "ipython3",
   "version": "3.7.3"
  }
 },
 "nbformat": 4,
 "nbformat_minor": 4
}
